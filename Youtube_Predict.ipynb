{
  "nbformat": 4,
  "nbformat_minor": 0,
  "metadata": {
    "colab": {
      "name": "Youtube-Predict.ipynb",
      "provenance": [],
      "authorship_tag": "ABX9TyM7JIFxyDecjoFOL1dTHF+P",
      "include_colab_link": true
    },
    "kernelspec": {
      "name": "python3",
      "display_name": "Python 3"
    },
    "language_info": {
      "name": "python"
    }
  },
  "cells": [
    {
      "cell_type": "markdown",
      "metadata": {
        "id": "view-in-github",
        "colab_type": "text"
      },
      "source": [
        "<a href=\"https://colab.research.google.com/github/VictorFreir/Youtube-Views_Predict/blob/master/Youtube_Predict.ipynb\" target=\"_parent\"><img src=\"https://colab.research.google.com/assets/colab-badge.svg\" alt=\"Open In Colab\"/></a>"
      ]
    },
    {
      "cell_type": "code",
      "metadata": {
        "id": "44tOijTYoe6Q"
      },
      "source": [
        ""
      ],
      "execution_count": null,
      "outputs": []
    },
    {
      "cell_type": "markdown",
      "metadata": {
        "id": "GJP50Xxuoik1"
      },
      "source": [
        "<h1>Hey, dude!</h1>\n",
        "<h2>Sinta-se no seu próprio repositório!</h2>\n",
        "<h4>Nesse Notebook, tentaremos prever a quantidade de views de um vídeo do Youtube usando Regressão Linear.</h4>\n",
        "<br>\n",
        "<hr>\n",
        "<br>\n",
        "<h1><strong>Introdução</strong></h1>\n",
        "<p>Para começar, vamos entender mais sobre o projeto. A ideia é implementar um modelo de Regressão Linear para a predição da quantidade de views baseado em alguma outra variável que ainda vamos descobrir na fase de exploração de dados.</p>\n",
        "<p>Vamos começar importanto as bibliotecas necessárias e base de dados, que por sinal está disponível no Kaggle como: Trending YouTube Video Statistics</p>\n"
      ]
    },
    {
      "cell_type": "code",
      "metadata": {
        "id": "P1rernlZwoDE"
      },
      "source": [
        "import pandas as pd\n",
        "import numpy as np\n",
        "import matplotlib.pyplot as plt\n",
        "import seaborn as sns\n",
        "\n",
        "df = pd.read_csv('CAvideos.csv')"
      ],
      "execution_count": null,
      "outputs": []
    },
    {
      "cell_type": "markdown",
      "metadata": {
        "id": "VQNrp9EAzEE_"
      },
      "source": [
        "<h1><strong>Análise exploratória dos dados</strong></h1>\n",
        "<p>Vamos começar dando uma olhada no que tem nesse conjunto de dados:</p>"
      ]
    },
    {
      "cell_type": "code",
      "metadata": {
        "colab": {
          "base_uri": "https://localhost:8080/",
          "height": 564
        },
        "id": "DQCbrsOm0ZME",
        "outputId": "b7606fe5-084c-47dd-c1f2-09a4968093cc"
      },
      "source": [
        "df.head()"
      ],
      "execution_count": null,
      "outputs": [
        {
          "output_type": "execute_result",
          "data": {
            "text/html": [
              "<div>\n",
              "<style scoped>\n",
              "    .dataframe tbody tr th:only-of-type {\n",
              "        vertical-align: middle;\n",
              "    }\n",
              "\n",
              "    .dataframe tbody tr th {\n",
              "        vertical-align: top;\n",
              "    }\n",
              "\n",
              "    .dataframe thead th {\n",
              "        text-align: right;\n",
              "    }\n",
              "</style>\n",
              "<table border=\"1\" class=\"dataframe\">\n",
              "  <thead>\n",
              "    <tr style=\"text-align: right;\">\n",
              "      <th></th>\n",
              "      <th>video_id</th>\n",
              "      <th>trending_date</th>\n",
              "      <th>title</th>\n",
              "      <th>channel_title</th>\n",
              "      <th>category_id</th>\n",
              "      <th>publish_time</th>\n",
              "      <th>tags</th>\n",
              "      <th>views</th>\n",
              "      <th>likes</th>\n",
              "      <th>dislikes</th>\n",
              "      <th>comment_count</th>\n",
              "      <th>thumbnail_link</th>\n",
              "      <th>comments_disabled</th>\n",
              "      <th>ratings_disabled</th>\n",
              "      <th>video_error_or_removed</th>\n",
              "      <th>description</th>\n",
              "    </tr>\n",
              "  </thead>\n",
              "  <tbody>\n",
              "    <tr>\n",
              "      <th>0</th>\n",
              "      <td>n1WpP7iowLc</td>\n",
              "      <td>17.14.11</td>\n",
              "      <td>Eminem - Walk On Water (Audio) ft. Beyoncé</td>\n",
              "      <td>EminemVEVO</td>\n",
              "      <td>10</td>\n",
              "      <td>2017-11-10T17:00:03.000Z</td>\n",
              "      <td>Eminem|\"Walk\"|\"On\"|\"Water\"|\"Aftermath/Shady/In...</td>\n",
              "      <td>17158579</td>\n",
              "      <td>787425</td>\n",
              "      <td>43420</td>\n",
              "      <td>125882</td>\n",
              "      <td>https://i.ytimg.com/vi/n1WpP7iowLc/default.jpg</td>\n",
              "      <td>False</td>\n",
              "      <td>False</td>\n",
              "      <td>False</td>\n",
              "      <td>Eminem's new track Walk on Water ft. Beyoncé i...</td>\n",
              "    </tr>\n",
              "    <tr>\n",
              "      <th>1</th>\n",
              "      <td>0dBIkQ4Mz1M</td>\n",
              "      <td>17.14.11</td>\n",
              "      <td>PLUSH - Bad Unboxing Fan Mail</td>\n",
              "      <td>iDubbbzTV</td>\n",
              "      <td>23</td>\n",
              "      <td>2017-11-13T17:00:00.000Z</td>\n",
              "      <td>plush|\"bad unboxing\"|\"unboxing\"|\"fan mail\"|\"id...</td>\n",
              "      <td>1014651</td>\n",
              "      <td>127794</td>\n",
              "      <td>1688</td>\n",
              "      <td>13030</td>\n",
              "      <td>https://i.ytimg.com/vi/0dBIkQ4Mz1M/default.jpg</td>\n",
              "      <td>False</td>\n",
              "      <td>False</td>\n",
              "      <td>False</td>\n",
              "      <td>STill got a lot of packages. Probably will las...</td>\n",
              "    </tr>\n",
              "    <tr>\n",
              "      <th>2</th>\n",
              "      <td>5qpjK5DgCt4</td>\n",
              "      <td>17.14.11</td>\n",
              "      <td>Racist Superman | Rudy Mancuso, King Bach &amp; Le...</td>\n",
              "      <td>Rudy Mancuso</td>\n",
              "      <td>23</td>\n",
              "      <td>2017-11-12T19:05:24.000Z</td>\n",
              "      <td>racist superman|\"rudy\"|\"mancuso\"|\"king\"|\"bach\"...</td>\n",
              "      <td>3191434</td>\n",
              "      <td>146035</td>\n",
              "      <td>5339</td>\n",
              "      <td>8181</td>\n",
              "      <td>https://i.ytimg.com/vi/5qpjK5DgCt4/default.jpg</td>\n",
              "      <td>False</td>\n",
              "      <td>False</td>\n",
              "      <td>False</td>\n",
              "      <td>WATCH MY PREVIOUS VIDEO ▶ \\n\\nSUBSCRIBE ► http...</td>\n",
              "    </tr>\n",
              "    <tr>\n",
              "      <th>3</th>\n",
              "      <td>d380meD0W0M</td>\n",
              "      <td>17.14.11</td>\n",
              "      <td>I Dare You: GOING BALD!?</td>\n",
              "      <td>nigahiga</td>\n",
              "      <td>24</td>\n",
              "      <td>2017-11-12T18:01:41.000Z</td>\n",
              "      <td>ryan|\"higa\"|\"higatv\"|\"nigahiga\"|\"i dare you\"|\"...</td>\n",
              "      <td>2095828</td>\n",
              "      <td>132239</td>\n",
              "      <td>1989</td>\n",
              "      <td>17518</td>\n",
              "      <td>https://i.ytimg.com/vi/d380meD0W0M/default.jpg</td>\n",
              "      <td>False</td>\n",
              "      <td>False</td>\n",
              "      <td>False</td>\n",
              "      <td>I know it's been a while since we did this sho...</td>\n",
              "    </tr>\n",
              "    <tr>\n",
              "      <th>4</th>\n",
              "      <td>2Vv-BfVoq4g</td>\n",
              "      <td>17.14.11</td>\n",
              "      <td>Ed Sheeran - Perfect (Official Music Video)</td>\n",
              "      <td>Ed Sheeran</td>\n",
              "      <td>10</td>\n",
              "      <td>2017-11-09T11:04:14.000Z</td>\n",
              "      <td>edsheeran|\"ed sheeran\"|\"acoustic\"|\"live\"|\"cove...</td>\n",
              "      <td>33523622</td>\n",
              "      <td>1634130</td>\n",
              "      <td>21082</td>\n",
              "      <td>85067</td>\n",
              "      <td>https://i.ytimg.com/vi/2Vv-BfVoq4g/default.jpg</td>\n",
              "      <td>False</td>\n",
              "      <td>False</td>\n",
              "      <td>False</td>\n",
              "      <td>🎧: https://ad.gt/yt-perfect\\n💰: https://atlant...</td>\n",
              "    </tr>\n",
              "  </tbody>\n",
              "</table>\n",
              "</div>"
            ],
            "text/plain": [
              "      video_id  ...                                        description\n",
              "0  n1WpP7iowLc  ...  Eminem's new track Walk on Water ft. Beyoncé i...\n",
              "1  0dBIkQ4Mz1M  ...  STill got a lot of packages. Probably will las...\n",
              "2  5qpjK5DgCt4  ...  WATCH MY PREVIOUS VIDEO ▶ \\n\\nSUBSCRIBE ► http...\n",
              "3  d380meD0W0M  ...  I know it's been a while since we did this sho...\n",
              "4  2Vv-BfVoq4g  ...  🎧: https://ad.gt/yt-perfect\\n💰: https://atlant...\n",
              "\n",
              "[5 rows x 16 columns]"
            ]
          },
          "metadata": {
            "tags": []
          },
          "execution_count": 3
        }
      ]
    },
    {
      "cell_type": "markdown",
      "metadata": {
        "id": "qGMML9vr0ovN"
      },
      "source": [
        "<p>Bem, para aplicarmos uma Regressão Linear simples, nós utilizaremos apenas variáveis quantitativa. E, no nosso conjunto de dados, as variáveis que parecem nos servir são: visualizações, likes, deslikes e número de comentários. Então, selecionaremos apenas eles:</p>"
      ]
    },
    {
      "cell_type": "code",
      "metadata": {
        "colab": {
          "base_uri": "https://localhost:8080/",
          "height": 142
        },
        "id": "ad6Ui-Oi1Fuz",
        "outputId": "4da9417c-e616-4370-fb77-3c4d423a6f03"
      },
      "source": [
        "df = df[['views','likes','dislikes','comment_count']]\n",
        "df.head(3)"
      ],
      "execution_count": null,
      "outputs": [
        {
          "output_type": "execute_result",
          "data": {
            "text/html": [
              "<div>\n",
              "<style scoped>\n",
              "    .dataframe tbody tr th:only-of-type {\n",
              "        vertical-align: middle;\n",
              "    }\n",
              "\n",
              "    .dataframe tbody tr th {\n",
              "        vertical-align: top;\n",
              "    }\n",
              "\n",
              "    .dataframe thead th {\n",
              "        text-align: right;\n",
              "    }\n",
              "</style>\n",
              "<table border=\"1\" class=\"dataframe\">\n",
              "  <thead>\n",
              "    <tr style=\"text-align: right;\">\n",
              "      <th></th>\n",
              "      <th>views</th>\n",
              "      <th>likes</th>\n",
              "      <th>dislikes</th>\n",
              "      <th>comment_count</th>\n",
              "    </tr>\n",
              "  </thead>\n",
              "  <tbody>\n",
              "    <tr>\n",
              "      <th>0</th>\n",
              "      <td>17158579</td>\n",
              "      <td>787425</td>\n",
              "      <td>43420</td>\n",
              "      <td>125882</td>\n",
              "    </tr>\n",
              "    <tr>\n",
              "      <th>1</th>\n",
              "      <td>1014651</td>\n",
              "      <td>127794</td>\n",
              "      <td>1688</td>\n",
              "      <td>13030</td>\n",
              "    </tr>\n",
              "    <tr>\n",
              "      <th>2</th>\n",
              "      <td>3191434</td>\n",
              "      <td>146035</td>\n",
              "      <td>5339</td>\n",
              "      <td>8181</td>\n",
              "    </tr>\n",
              "  </tbody>\n",
              "</table>\n",
              "</div>"
            ],
            "text/plain": [
              "      views   likes  dislikes  comment_count\n",
              "0  17158579  787425     43420         125882\n",
              "1   1014651  127794      1688          13030\n",
              "2   3191434  146035      5339           8181"
            ]
          },
          "metadata": {
            "tags": []
          },
          "execution_count": 5
        }
      ]
    },
    {
      "cell_type": "markdown",
      "metadata": {
        "id": "HD_7dCy01YTq"
      },
      "source": [
        "<p>Agora que temos apenas os dados que são essenciais para o nosso modelo, nós podemos verificar quais variáveis estão correlacionadas, ou seja, quando uma varia, de alguma forma, a outra também varia de alguma forma, mas não necessariamente a mesma forma. Para isso nós calculamos uma medida chama Pearson's R. Nós podemos calcular-lo de duas formas, a primeira:</p>"
      ]
    },
    {
      "cell_type": "code",
      "metadata": {
        "id": "6f9K36LY1Qh4"
      },
      "source": [
        "mean_views = df['views'].mean()\n",
        "std_views = df['views'].std()\n",
        "views = df['views']\n",
        "\n",
        "mean_likes = df['likes'].mean()\n",
        "std_likes = df['likes'].std()\n",
        "likes = df['likes']\n",
        "\n",
        "pearson_r = 0\n",
        "for i in range(len(likes)):\n",
        "    pearson_r += ((views.iloc[i]-mean_views)/std_views) * ((likes.iloc[i]-mean_likes)/std_likes)\n",
        "pearson_r = coeficiente / len(likes)\n"
      ],
      "execution_count": null,
      "outputs": []
    },
    {
      "cell_type": "markdown",
      "metadata": {
        "id": "IrV-dbQm4SsG"
      },
      "source": [
        "Dessa forma, nós calculamos a correlação entre os likes e as visualizações. No entanto, nós teríamos que fazer isso para todas as combinações de nossas variáveis. Isso parece bem cansativo. Para nossa sorte, o Pandas - Sempre maravilhoso - calcula todos os coeficientes de correlação com APENAS uma linha de código. EU SEI É INCRÍVEL! "
      ]
    },
    {
      "cell_type": "code",
      "metadata": {
        "colab": {
          "base_uri": "https://localhost:8080/",
          "height": 173
        },
        "id": "CV90Q6oB5FnR",
        "outputId": "6fa7a24b-5bda-4d08-e16c-89682a23c29f"
      },
      "source": [
        "correlation = df.corr()\n",
        "correlation"
      ],
      "execution_count": null,
      "outputs": [
        {
          "output_type": "execute_result",
          "data": {
            "text/html": [
              "<div>\n",
              "<style scoped>\n",
              "    .dataframe tbody tr th:only-of-type {\n",
              "        vertical-align: middle;\n",
              "    }\n",
              "\n",
              "    .dataframe tbody tr th {\n",
              "        vertical-align: top;\n",
              "    }\n",
              "\n",
              "    .dataframe thead th {\n",
              "        text-align: right;\n",
              "    }\n",
              "</style>\n",
              "<table border=\"1\" class=\"dataframe\">\n",
              "  <thead>\n",
              "    <tr style=\"text-align: right;\">\n",
              "      <th></th>\n",
              "      <th>views</th>\n",
              "      <th>likes</th>\n",
              "      <th>dislikes</th>\n",
              "      <th>comment_count</th>\n",
              "    </tr>\n",
              "  </thead>\n",
              "  <tbody>\n",
              "    <tr>\n",
              "      <th>views</th>\n",
              "      <td>1.000000</td>\n",
              "      <td>0.828964</td>\n",
              "      <td>0.557621</td>\n",
              "      <td>0.693107</td>\n",
              "    </tr>\n",
              "    <tr>\n",
              "      <th>likes</th>\n",
              "      <td>0.828964</td>\n",
              "      <td>1.000000</td>\n",
              "      <td>0.460427</td>\n",
              "      <td>0.836585</td>\n",
              "    </tr>\n",
              "    <tr>\n",
              "      <th>dislikes</th>\n",
              "      <td>0.557621</td>\n",
              "      <td>0.460427</td>\n",
              "      <td>1.000000</td>\n",
              "      <td>0.643494</td>\n",
              "    </tr>\n",
              "    <tr>\n",
              "      <th>comment_count</th>\n",
              "      <td>0.693107</td>\n",
              "      <td>0.836585</td>\n",
              "      <td>0.643494</td>\n",
              "      <td>1.000000</td>\n",
              "    </tr>\n",
              "  </tbody>\n",
              "</table>\n",
              "</div>"
            ],
            "text/plain": [
              "                  views     likes  dislikes  comment_count\n",
              "views          1.000000  0.828964  0.557621       0.693107\n",
              "likes          0.828964  1.000000  0.460427       0.836585\n",
              "dislikes       0.557621  0.460427  1.000000       0.643494\n",
              "comment_count  0.693107  0.836585  0.643494       1.000000"
            ]
          },
          "metadata": {
            "tags": []
          },
          "execution_count": 6
        }
      ]
    },
    {
      "cell_type": "markdown",
      "metadata": {
        "id": "1XNBkqqu5NU0"
      },
      "source": [
        "<p>Nesse momento você deve estar: \"Victor, tu só pode tá de brincadeira, não pode ser tão bom\". Acredite, o pandas é tão poderoso assim. Bem, essa segunda forma é bem mais fácil de ser executada e nós, com ajuda do seaborn, ainda conseguimos mostrar os resultados de forma mais amigável:</p>"
      ]
    },
    {
      "cell_type": "code",
      "metadata": {
        "colab": {
          "base_uri": "https://localhost:8080/",
          "height": 319
        },
        "id": "fV2iCNpC5MWz",
        "outputId": "e317027f-eb7e-439e-e8d8-0580ff742768"
      },
      "source": [
        "sns.heatmap(correlation, annot=True,linewidths=1)"
      ],
      "execution_count": null,
      "outputs": [
        {
          "output_type": "execute_result",
          "data": {
            "text/plain": [
              "<matplotlib.axes._subplots.AxesSubplot at 0x7f9eefd9a150>"
            ]
          },
          "metadata": {
            "tags": []
          },
          "execution_count": 9
        },
        {
          "output_type": "display_data",
          "data": {
            "image/png": "[encoded data removed]",
            "text/plain": [
              "<Figure size 432x288 with 2 Axes>"
            ]
          },
          "metadata": {
            "tags": [],
            "needs_background": "light"
          }
        }
      ]
    },
    {
      "cell_type": "markdown",
      "metadata": {
        "id": "ewPi5rd86y8_"
      },
      "source": [
        "<p>Para a interpretação desse gráfico, é necessário que a gente saiba que o coeficiente de correlação indique que, quanto mais próximo do 1, mais correlacionadas as variáveis estão. Nós precisamos prever as visualizações, logo vermos que a varíavel mais correlacionada com as visualizações são os likes. Dessa forma, utilizaremos os likes como forma de prever um valor aproximado das visualizações de um vídeo.</p>"
      ]
    },
    {
      "cell_type": "code",
      "metadata": {
        "colab": {
          "base_uri": "https://localhost:8080/",
          "height": 307
        },
        "id": "ApVMr-oi6P3Y",
        "outputId": "e9034472-31a8-43d8-ffcb-3658c281487f"
      },
      "source": [
        "sns.regplot(x='views',y='likes',data=df)"
      ],
      "execution_count": null,
      "outputs": [
        {
          "output_type": "execute_result",
          "data": {
            "text/plain": [
              "<matplotlib.axes._subplots.AxesSubplot at 0x7f9eefce6250>"
            ]
          },
          "metadata": {
            "tags": []
          },
          "execution_count": 10
        },
        {
          "output_type": "display_data",
          "data": {
            "image/png": "[encoded data removed]",
            "text/plain": [
              "<Figure size 432x288 with 1 Axes>"
            ]
          },
          "metadata": {
            "tags": [],
            "needs_background": "light"
          }
        }
      ]
    },
    {
      "cell_type": "markdown",
      "metadata": {
        "id": "7KYR0xJ177MO"
      },
      "source": [
        "<p>Plotei esse gráfico acima para darmos uma olhada mais aprofundada nessa correlação. Essa linha será a utilizada para prevermos o resultado. Se você não conhece os modelos de regressão linear, não precisa sair desse notebook, você conseguirá acompanhar o projeto e ver onde chegaremos.</p>"
      ]
    },
    {
      "cell_type": "markdown",
      "metadata": {
        "id": "6ByCiEZ78uUz"
      },
      "source": [
        "<h1><strong>Criando o modelo</strong></h1>\n",
        "<p>Agora, começaremos a criar o nosso modelo em si. A fórmula que usaremos é y = a + b*x</p>\n",
        "<p>Para aplicarmos ela, nós preciamos \"descobrir\" o valor de a e de b. Começaremos com o valor de b:</p>"
      ]
    },
    {
      "cell_type": "code",
      "metadata": {
        "id": "MjfszTY574hL"
      },
      "source": [
        "def pearson_r(x,y):\n",
        "    r = 0\n",
        "    for i in range(len(x)):\n",
        "        r +=((x[i]-x.mean())/x.std()) * ((y[i]-y.mean())/y.std())\n",
        "    r = r / len(likes)\n",
        "    return r\n",
        "    \n",
        "def b_calculator(x,y):\n",
        "    mediax = x.mean()\n",
        "    mediay = y.mean()\n",
        "    sx = x.std()\n",
        "    sy = y.std()\n",
        "    r = pearson_r(x,y)\n",
        "    b = r*(sy/sx)\n",
        "    return b"
      ],
      "execution_count": null,
      "outputs": []
    },
    {
      "cell_type": "markdown",
      "metadata": {
        "id": "hjqKx3kj91-n"
      },
      "source": [
        "<p>Agora, calcularemos o valor de a:</p>"
      ]
    },
    {
      "cell_type": "code",
      "metadata": {
        "id": "ndx2yhB09v3S"
      },
      "source": [
        "def a_calculator(x,y,b):\n",
        "    a = y.mean() - (b*x.mean())\n",
        "    return a"
      ],
      "execution_count": null,
      "outputs": []
    },
    {
      "cell_type": "markdown",
      "metadata": {
        "id": "XYnxdoio-bDy"
      },
      "source": [
        "<p>Por fim, precisamos criar um função que faça a predição dos valores de visualizações:</p>"
      ]
    },
    {
      "cell_type": "code",
      "metadata": {
        "id": "Hfz5YKoy-r7q"
      },
      "source": [
        "def predict(x,y,value):\n",
        "    b = b_calculator(x,y)\n",
        "    a = a_calculator(x,y,b)\n",
        "    y =  +  a + b*value\n",
        "    return y"
      ],
      "execution_count": null,
      "outputs": []
    },
    {
      "cell_type": "markdown",
      "metadata": {
        "id": "_z1Rybqk7BUs"
      },
      "source": [
        "<p>Agora, nós já temos nossa função de predição de visualizações. Nós podemos apenas enviarmos o número para ela e a função se encarregará de treinar e prever o valor das visualizações.</p>"
      ]
    },
    {
      "cell_type": "code",
      "metadata": {
        "id": "Jtwnv3Bn-zh0"
      },
      "source": [
        ""
      ],
      "execution_count": null,
      "outputs": []
    }
  ]
}